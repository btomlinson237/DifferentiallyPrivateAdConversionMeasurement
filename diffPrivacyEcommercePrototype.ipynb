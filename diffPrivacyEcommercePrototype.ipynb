{
 "cells": [
  {
   "cell_type": "markdown",
   "metadata": {},
   "source": [
    "# Differentially Private Ad Conversion Measurement Prototype\n",
    "\n",
    "This notebook is an expanded prototype inspired by the study:\n",
    "\n",
    "> **Differentially Private Ad Conversion Measurement**  \n",
    "> John Delaney, Badih Ghazi, Charlie Harrison, Christina Ilvento, Ravi Kumar, Pasin Manurangsi, Martin Pál, Karthik Prabhakar, Mariana Raykova\n",
    "> \n",
    "> *Proceedings on Privacy Enhancing Technologies 2024*\n",
    "\n",
    "The goal of this notebook is to demonstrate, in a simplified setting, some of the core concepts discussed in the paper:\n",
    "\n",
    "- **Ad conversion measurement:** Simulating impressions and conversions for users across publishers.\n",
    "- **Attribution rules:** How to assign conversion credit to ad impressions. We implement several rules (LTA, FTA, Uniform, Exponential decay, and U-Shaped).\n",
    "- **Contribution bounding:** A simplified mechanism to limit the impact of any single user (or impression) on the final measurement.\n",
    "- **Differential Privacy:** Adding Laplace noise (calibrated to a privacy parameter \\(\\epsilon\\)) to the aggregated conversion counts.\n",
    "\n",
    "This notebook is meant as a prototype to showcase how these ideas can be implemented in a machine learning / data science project."
   ]
  },
  {
   "cell_type": "code",
   "execution_count": 1,
   "metadata": {},
   "outputs": [],
   "source": [
    "import numpy as np\n",
    "import pandas as pd\n",
    "import matplotlib.pyplot as plt\n",
    "import datetime\n",
    "\n",
    "# For reproducibility\n",
    "np.random.seed(42)"
   ]
  },
  {
   "cell_type": "markdown",
   "metadata": {},
   "source": [
    "## 1. Simulating Ad Impressions and Conversions\n",
    "\n",
    "We simulate a small dataset with the following assumptions:\n",
    "\n",
    "- **Users:** A number of users each viewing a random number of ad impressions (each from one of several publishers).\n",
    "- **Impressions:** Each impression has a timestamp and is associated with a publisher and a single advertiser.\n",
    "- **Conversions:** With some probability a user converts after their last impression.\n",
    "\n",
    "This is a simplified simulation intended for demonstration purposes."
   ]
  },
  {
   "cell_type": "code",
   "execution_count": 2,
   "metadata": {},
   "outputs": [
    {
     "name": "stdout",
     "output_type": "stream",
     "text": [
      "Impressions Data Sample:\n",
      "   user_id   advertiser    publisher     impression_time\n",
      "0        0  Advertiser1  Publisher_3 2024-01-01 00:29:00\n",
      "1        0  Advertiser1  Publisher_5 2024-01-01 00:37:00\n",
      "2        0  Advertiser1  Publisher_2 2024-01-01 00:58:00\n",
      "3        0  Advertiser1  Publisher_3 2024-01-01 01:17:00\n",
      "4        1  Advertiser1  Publisher_3 2024-01-01 00:40:00\n",
      "\n",
      "Conversions Data Sample:\n",
      "   user_id   advertiser     conversion_time\n",
      "0        0  Advertiser1 2024-01-01 02:10:00\n",
      "1        1  Advertiser1 2024-01-01 01:55:00\n",
      "2        2  Advertiser1 2024-01-01 00:56:00\n",
      "3        3  Advertiser1 2024-01-01 01:31:00\n",
      "4        4  Advertiser1 2024-01-01 02:43:00\n"
     ]
    }
   ],
   "source": [
    "# Simulation parameters\n",
    "num_users = 50\n",
    "num_publishers = 5\n",
    "advertiser = \"Advertiser1\"\n",
    "\n",
    "impressions_list = []\n",
    "conversions_list = []\n",
    "\n",
    "# For each user, simulate a sequence of impressions\n",
    "for user_id in range(num_users):\n",
    "    # Each user sees between 1 and 5 impressions\n",
    "    num_impressions = np.random.randint(1, 6)\n",
    "    # Start time for this user's session\n",
    "    start_time = pd.Timestamp(\"2024-01-01\")\n",
    "    for i in range(num_impressions):\n",
    "        # Add a random offset in minutes\n",
    "        time_offset = pd.Timedelta(minutes=np.random.randint(1, 60))\n",
    "        impression_time = start_time + time_offset\n",
    "        start_time = impression_time  # ensure impressions are in order\n",
    "        publisher = f\"Publisher_{np.random.randint(1, num_publishers+1)}\"\n",
    "        impressions_list.append({\n",
    "            \"user_id\": user_id,\n",
    "            \"advertiser\": advertiser,\n",
    "            \"publisher\": publisher,\n",
    "            \"impression_time\": impression_time\n",
    "        })\n",
    "    \n",
    "    # With 70% chance, the user converts after the last impression\n",
    "    if np.random.rand() < 0.7:\n",
    "        conversion_time = start_time + pd.Timedelta(minutes=np.random.randint(1, 60))\n",
    "        conversions_list.append({\n",
    "            \"user_id\": user_id,\n",
    "            \"advertiser\": advertiser,\n",
    "            \"conversion_time\": conversion_time\n",
    "        })\n",
    "\n",
    "# Create DataFrames\n",
    "impressions_df = pd.DataFrame(impressions_list)\n",
    "conversions_df = pd.DataFrame(conversions_list)\n",
    "\n",
    "print(\"Impressions Data Sample:\")\n",
    "print(impressions_df.head())\n",
    "\n",
    "print(\"\\nConversions Data Sample:\")\n",
    "print(conversions_df.head())"
   ]
  },
  {
   "cell_type": "markdown",
   "metadata": {},
   "source": [
    "## 2. Attribution Rules\n",
    "\n",
    "In ad conversion measurement the **attribution rule** determines how the credit for a conversion is split among the preceding impressions. \n",
    "\n",
    "Below are simplified implementations of several rules:\n",
    "\n",
    "- **Last-Touch Attribution (LTA):** All credit goes to the last impression before the conversion.\n",
    "- **First-Touch Attribution (FTA):** All credit goes to the first impression before the conversion.\n",
    "- **Uniform Attribution (UNI):** Credit is split equally among all impressions before the conversion.\n",
    "- **Exponential Decay (EXP):** Credit decays exponentially with the time difference between the impression and the conversion (using a given half-life).\n",
    "- **U-Shaped Attribution (U-S):** For three or more impressions, the first and last impressions each receive 40% of the credit, and the remaining credit is shared equally among the intermediate impressions.\n",
    "\n",
    "Each function takes a list of impression timestamps (assumed sorted) and a conversion timestamp, and returns a list of weights (which sum to 1)."
   ]
  },
  {
   "cell_type": "code",
   "execution_count": 3,
   "metadata": {},
   "outputs": [],
   "source": [
    "def lta_attribution(impressions, conversion_time):\n",
    "    \"\"\"Last-Touch Attribution: assign full credit to the last impression before conversion.\"\"\"\n",
    "    valid_impressions = [imp for imp in impressions if imp < conversion_time]\n",
    "    if not valid_impressions:\n",
    "        return []\n",
    "    weights = [0] * len(valid_impressions)\n",
    "    weights[-1] = 1.0\n",
    "    return weights\n",
    "\n",
    "def fta_attribution(impressions, conversion_time):\n",
    "    \"\"\"First-Touch Attribution: assign full credit to the first impression before conversion.\"\"\"\n",
    "    valid_impressions = [imp for imp in impressions if imp < conversion_time]\n",
    "    if not valid_impressions:\n",
    "        return []\n",
    "    weights = [0] * len(valid_impressions)\n",
    "    weights[0] = 1.0\n",
    "    return weights\n",
    "\n",
    "def uni_attribution(impressions, conversion_time):\n",
    "    \"\"\"Uniform Attribution: split credit equally among all impressions before conversion.\"\"\"\n",
    "    valid_impressions = [imp for imp in impressions if imp < conversion_time]\n",
    "    if not valid_impressions:\n",
    "        return []\n",
    "    n = len(valid_impressions)\n",
    "    return [1.0/n] * n\n",
    "\n",
    "def exp_attribution(impressions, conversion_time, half_life=10):\n",
    "    \"\"\"Exponential decay attribution: weight decreases exponentially with time gap.\"\"\"\n",
    "    valid_impressions = [imp for imp in impressions if imp < conversion_time]\n",
    "    if not valid_impressions:\n",
    "        return []\n",
    "    weights = []\n",
    "    for imp in valid_impressions:\n",
    "        # Compute time difference in minutes\n",
    "        delta = (conversion_time - imp).total_seconds() / 60.0\n",
    "        weight = 0.5 ** (delta / half_life)\n",
    "        weights.append(weight)\n",
    "    total = sum(weights)\n",
    "    if total == 0:\n",
    "        return [0] * len(weights)\n",
    "    return [w/total for w in weights]\n",
    "\n",
    "def u_shaped_attribution(impressions, conversion_time):\n",
    "    \"\"\"U-Shaped Attribution: for 3+ impressions, first and last get 40% each, intermediate impressions share 20%.\"\"\"\n",
    "    valid_impressions = [imp for imp in impressions if imp < conversion_time]\n",
    "    n = len(valid_impressions)\n",
    "    if n == 0:\n",
    "        return []\n",
    "    if n == 1:\n",
    "        return [1.0]\n",
    "    if n == 2:\n",
    "        return [0.5, 0.5]\n",
    "    # For n >= 3\n",
    "    weights = [0.4] + [0.2/(n-2)] * (n-2) + [0.4]\n",
    "    return weights\n",
    "\n",
    "# Example usage:\n",
    "# Let's say a user saw three impressions at times t1, t2, t3 and converted at t_conv\n",
    "# Uncomment the following lines to test:\n",
    "# t1, t2, t3, t_conv = pd.Timestamp('2024-01-01 00:05'), pd.Timestamp('2024-01-01 00:15'), pd.Timestamp('2024-01-01 00:25'), pd.Timestamp('2024-01-01 00:35')\n",
    "# print('LTA:', lta_attribution([t1, t2, t3], t_conv))\n",
    "# print('FTA:', fta_attribution([t1, t2, t3], t_conv))\n",
    "# print('UNI:', uni_attribution([t1, t2, t3], t_conv))\n",
    "# print('EXP:', exp_attribution([t1, t2, t3], t_conv, half_life=10))\n",
    "# print('U-S:', u_shaped_attribution([t1, t2, t3], t_conv))"
   ]
  },
  {
   "cell_type": "markdown",
   "metadata": {},
   "source": [
    "## 3. Contribution Bounding Enforcement\n",
    "\n",
    "In practical DP ad conversion measurement systems, it is important to limit the contribution\n",
    "of any single user (or impression) so that the sensitivity of the query remains bounded.\n",
    "\n",
    "In this simplified prototype, we simulate a **post-attribution contribution bound** by\n",
    "capping the total conversion attribution weight per *(user, publisher)* pair. In more complex\n",
    "systems (as described in the paper) the contribution bounding can be enforced either before (pre-)\n",
    "or after (post-) applying the attribution rule, and may be defined over different scopes (e.g., user, user × advertiser, etc.)."
   ]
  },
  {
   "cell_type": "code",
   "execution_count": 4,
   "metadata": {},
   "outputs": [],
   "source": [
    "def enforce_contribution_bound(attribution_dict, bound):\n",
    "    \"\"\"\n",
    "    Given a dictionary with keys (user_id, publisher) and values representing total attribution weight,\n",
    "    enforce a cap of 'bound' on each key.\n",
    "    \"\"\"\n",
    "    bounded = {}\n",
    "    for key, value in attribution_dict.items():\n",
    "        bounded[key] = min(value, bound)\n",
    "    return bounded\n",
    "\n",
    "# For demonstration, we will later aggregate conversion attribution per publisher\n",
    "# and then cap the contribution from each publisher (or per (user, publisher)) if desired."
   ]
  },
  {
   "cell_type": "markdown",
   "metadata": {},
   "source": [
    "## 4. Aggregating Conversion Attributions\n",
    "\n",
    "For each conversion event, we look up the impressions for the same user (and advertiser) that occurred\n",
    "before the conversion. We then apply an attribution rule (for example, LTA) to assign the conversion credit to one\n",
    "or more impressions. In this example, we aggregate the attribution per publisher.\n",
    "\n",
    "Below, we demonstrate a simple aggregation using the Last-Touch Attribution rule."
   ]
  },
  {
   "cell_type": "code",
   "execution_count": 5,
   "metadata": {},
   "outputs": [
    {
     "name": "stdout",
     "output_type": "stream",
     "text": [
      "Attribution Data Sample:\n",
      "   user_id    publisher  attribution\n",
      "0        0  Publisher_3          1.0\n",
      "1        1  Publisher_2          1.0\n",
      "2        2  Publisher_2          1.0\n",
      "3        3  Publisher_3          1.0\n",
      "4        4  Publisher_3          1.0\n"
     ]
    }
   ],
   "source": [
    "# First, group impressions by user (sorted by impression_time)\n",
    "impressions_by_user = impressions_df.sort_values(\"impression_time\").groupby(\"user_id\")\n",
    "\n",
    "attribution_records = []\n",
    "\n",
    "# For each conversion, attribute it using impressions from the same user\n",
    "for idx, conversion in conversions_df.iterrows():\n",
    "    user = conversion[\"user_id\"]\n",
    "    conv_time = conversion[\"conversion_time\"]\n",
    "    \n",
    "    if user in impressions_by_user.groups:\n",
    "        user_impressions = impressions_by_user.get_group(user)\n",
    "        # Extract impression times and corresponding publishers\n",
    "        imp_times = list(user_impressions[\"impression_time\"])\n",
    "        publishers = list(user_impressions[\"publisher\"])\n",
    "        \n",
    "        # Apply an attribution rule (here: Last-Touch Attribution)\n",
    "        weights = lta_attribution(imp_times, conv_time)\n",
    "        \n",
    "        if weights:\n",
    "            # For LTA, the last impression gets full credit\n",
    "            index = len(weights) - 1\n",
    "            attribution_records.append({\n",
    "                \"user_id\": user,\n",
    "                \"publisher\": publishers[index],\n",
    "                \"attribution\": weights[index]\n",
    "            })\n",
    "\n",
    "attribution_df = pd.DataFrame(attribution_records)\n",
    "print(\"Attribution Data Sample:\")\n",
    "print(attribution_df.head())"
   ]
  },
  {
   "cell_type": "markdown",
   "metadata": {},
   "source": [
    "## 5. Adding Differential Privacy via the Laplace Mechanism\n",
    "\n",
    "To release the aggregated conversion counts without compromising individual privacy, we add noise\n",
    "using the Laplace mechanism. Here, the sensitivity of a count query is assumed to be 1 and the noise scale is\n",
    "calibrated by the privacy parameter \\(\\epsilon\\). \n",
    "\n",
    "Below, we first aggregate the total conversion attribution per publisher and then add Laplace noise to each count."
   ]
  },
  {
   "cell_type": "code",
   "execution_count": 6,
   "metadata": {},
   "outputs": [
    {
     "name": "stdout",
     "output_type": "stream",
     "text": [
      "Aggregated True and DP Attributions:\n",
      "     publisher  true_attribution  dp_attribution\n",
      "0  Publisher_1               6.0        6.033963\n",
      "1  Publisher_2              10.0       10.377202\n",
      "2  Publisher_3               5.0        4.862284\n",
      "3  Publisher_4               6.0        6.616332\n",
      "4  Publisher_5               4.0        1.650661\n"
     ]
    }
   ],
   "source": [
    "def laplace_mechanism(true_value, epsilon, sensitivity=1.0):\n",
    "    scale = sensitivity / epsilon\n",
    "    noise = np.random.laplace(0, scale)\n",
    "    return true_value + noise\n",
    "\n",
    "# Differential privacy parameter\n",
    "epsilon = 1.0\n",
    "\n",
    "# Aggregate conversion attribution counts by publisher\n",
    "agg_true = attribution_df.groupby(\"publisher\")[\"attribution\"].sum().reset_index()\n",
    "agg_true.columns = [\"publisher\", \"true_attribution\"]\n",
    "\n",
    "# Apply the Laplace mechanism to each aggregated count\n",
    "agg_true[\"dp_attribution\"] = agg_true[\"true_attribution\"].apply(lambda x: laplace_mechanism(x, epsilon))\n",
    "\n",
    "print(\"Aggregated True and DP Attributions:\")\n",
    "print(agg_true)"
   ]
  },
  {
   "cell_type": "markdown",
   "metadata": {},
   "source": [
    "## 6. Visualization\n",
    "\n",
    "We now compare the true aggregated conversion attributions with the differentially private (DP) estimates\n",
    "by plotting a bar chart for each publisher."
   ]
  },
  {
   "cell_type": "code",
   "execution_count": 7,
   "metadata": {},
   "outputs": [
    {
     "data": {
      "image/png": "[encoded data removed]",
      "text/plain": [
       "<Figure size 800x500 with 1 Axes>"
      ]
     },
     "metadata": {},
     "output_type": "display_data"
    }
   ],
   "source": [
    "plt.figure(figsize=(8,5))\n",
    "plt.bar(agg_true[\"publisher\"], agg_true[\"true_attribution\"], alpha=0.6, label=\"True Attribution\")\n",
    "plt.bar(agg_true[\"publisher\"], agg_true[\"dp_attribution\"], alpha=0.6, label=\"DP Attribution\")\n",
    "plt.xlabel(\"Publisher\")\n",
    "plt.ylabel(\"Conversion Attribution\")\n",
    "plt.title(\"True vs Differentially Private Conversion Attributions\")\n",
    "plt.legend()\n",
    "plt.show()"
   ]
  },
  {
   "cell_type": "markdown",
   "metadata": {},
   "source": [
    "## 7. Conclusion and Future Directions\n",
    "\n",
    "This notebook demonstrated a simplified prototype for a differentially private ad conversion\n",
    "measurement system inspired by the study by Delaney et al. We simulated ad impressions and conversions, \n",
    "applied several attribution rules, enforced a simple contribution bound, and finally added Laplace noise \n",
    "to the aggregated conversion counts to ensure differential privacy.\n",
    "\n",
    "### Possible Extensions\n",
    "\n",
    "- **Attribution Rules:** Implement and compare additional rules such as Exponential decay (EXP) or more advanced\n",
    "  multi-touch attribution methods.\n",
    "- **Contribution Bounding:** Explore pre-attribution contribution bounding and more complex scopes (e.g., user × advertiser).\n",
    "- **Privacy Mechanisms:** Experiment with other DP mechanisms (e.g., Gaussian noise, advanced composition, or mechanisms\n",
    "  for approximate DP).\n",
    "- **Real Data:** Apply the prototype to real ad conversion datasets and study the trade-offs between privacy and utility.\n",
    "\n",
    "This project serves as a demonstration of applying differential privacy concepts in the business domain of ad\n",
    "conversion measurement and can be extended further for research or as a portfolio project to showcase expertise in\n",
    "machine learning and privacy-preserving data analysis."
   ]
  }
 ],
 "metadata": {
  "kernelspec": {
   "display_name": "002venv",
   "language": "python",
   "name": "python3"
  },
  "language_info": {
   "codemirror_mode": {
    "name": "ipython",
    "version": 3
   },
   "file_extension": ".py",
   "mimetype": "text/x-python",
   "name": "python",
   "nbconvert_exporter": "python",
   "pygments_lexer": "ipython3",
   "version": "3.12.3"
  }
 },
 "nbformat": 4,
 "nbformat_minor": 5
}
